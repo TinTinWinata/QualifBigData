{
 "cells": [
  {
   "cell_type": "code",
   "execution_count": 221,
   "metadata": {},
   "outputs": [],
   "source": [
    "# Import Source - JT - Justine Winata\n",
    "\n",
    "from pyspark.sql import SparkSession\n",
    "from matplotlib import pyplot as plt\n",
    "from pyspark.sql.functions import monotonically_increasing_id as mi\n",
    "from pyspark.sql.functions import desc\n",
    "from pyspark.sql.functions import asc\n",
    "from pyspark.sql.functions import when\n",
    "from pyspark.ml.feature  import VectorAssembler, StandardScaler\n",
    "\n",
    "spark = SparkSession.builder.getOrCreate()\n"
   ]
  },
  {
   "cell_type": "code",
   "execution_count": 238,
   "metadata": {},
   "outputs": [
    {
     "name": "stdout",
     "output_type": "stream",
     "text": [
      "45429\n"
     ]
    }
   ],
   "source": [
    "# Data Frame Train\n",
    "\n",
    "from pyspark.ml.feature  import VectorAssembler, StandardScaler\n",
    "\n",
    "df_train = spark.read.option(\"inferSchema\", \"true\").csv(\"births.csv\", header= True)\n",
    "df_train = df_train.select(\"INFANT_SEX\", \"STEROIDS\", \"ANTIBIOTICS\", \"ANESTHESIA\",\"APGAR_10\",\n",
    "                          \"CIG_BEFORE\", \"MOTHER_DELIVERY_WEIGHT\", \"MOTHER_BMI_RECODE\")\n",
    "\n",
    "df_train = df_train.na.drop()\n",
    "\n",
    "\n",
    "df_train = df_train.withColumn(\"INFANT_SEX\", when(df_train[\"INFANT_SEX\"] == \"F\", 0).\\\n",
    "                                                  when(df_train[\"INFANT_SEX\"] == \"M\", 1))\n",
    "df_train = df_train.withColumn(\"STEROIDS\", when(df_train[\"STEROIDS\"] == \"N\", 0).\\\n",
    "                                           when(df_train[\"STEROIDS\"] == \"U\", 2).\\\n",
    "                                                  when(df_train[\"STEROIDS\"] == \"Y\", 1))\n",
    "df_train = df_train.withColumn(\"ANTIBIOTICS\", when(df_train[\"ANTIBIOTICS\"] == \"N\", 0).\\\n",
    "                                              when(df_train[\"ANTIBIOTICS\"] == \"U\", 2).\\\n",
    "                                                  when(df_train[\"ANTIBIOTICS\"] == \"Y\", 1))\n",
    "df_train = df_train.withColumn(\"ANESTHESIA\", when(df_train[\"ANESTHESIA\"] == \"N\", 0).\\\n",
    "                                             when(df_train[\"ANESTHESIA\"] == \"U\", 2).\\\n",
    "                                                  when(df_train[\"ANESTHESIA\"] == \"Y\", 1))\n",
    "\n",
    "cols = df_train.columns\n",
    "df_train = VectorAssembler(inputCols = cols, outputCol = \"Feature\").transform(df_train)\n",
    "df_train = StandardScaler(inputCol = \"Feature\", outputCol = \"features\").fit(df_train).transform(df_train)\n",
    "                                                 "
   ]
  },
  {
   "cell_type": "code",
   "execution_count": 239,
   "metadata": {
    "scrolled": true
   },
   "outputs": [],
   "source": [
    "# Data Frame Test\n",
    "df_test = spark.read.option(\"inferSchema\", \"true\").csv(\"births.csv\", header= True)\n",
    "\n",
    "df_test = df_test.select(\"INFANT_ALIVE_AT_REPORT\", \"INFANT_SEX\", \"STEROIDS\", \"ANTIBIOTICS\", \"ANESTHESIA\", \"APGAR_10\",\n",
    "                        \"CIG_BEFORE\", \"MOTHER_DELIVERY_WEIGHT\", \"MOTHER_BMI_RECODE\")\n",
    "\n",
    "df_test = df_test.na.drop()\n",
    "\n",
    "df_test = df_test.withColumn(\"INFANT_SEX\", when(df_test[\"INFANT_SEX\"] == \"F\", 0).\\\n",
    "                                                  when(df_test[\"INFANT_SEX\"] == \"M\", 1))\n",
    "\n",
    "df_test = df_test.withColumn(\"STEROIDS\", when(df_test[\"STEROIDS\"] == \"N\", 0).\\\n",
    "                                           when(df_test[\"STEROIDS\"] == \"U\", 2).\\\n",
    "                                                  when(df_test[\"STEROIDS\"] == \"Y\", 1))\n",
    "\n",
    "df_test = df_test.withColumn(\"ANTIBIOTICS\", when(df_test[\"ANTIBIOTICS\"] == \"N\", 0).\\\n",
    "                                              when(df_test[\"ANTIBIOTICS\"] == \"U\", 2).\\\n",
    "                                                  when(df_test[\"ANTIBIOTICS\"] == \"Y\", 1))\n",
    "\n",
    "df_test = df_test.withColumn(\"ANESTHESIA\", when(df_test[\"ANESTHESIA\"] == \"N\", 0).\\\n",
    "                                             when(df_test[\"ANESTHESIA\"] == \"U\", 2).\\\n",
    "                                                  when(df_test[\"ANESTHESIA\"] == \"Y\", 1))\n",
    "\n",
    "df_test = df_test.withColumn(\"INFANT_ALIVE_AT_REPORT\", when(df_test[\"INFANT_ALIVE_AT_REPORT\"] == \"N\", 0).\\\n",
    "                                                  when(df_test[\"INFANT_ALIVE_AT_REPORT\"] == \"Y\", 1))\n",
    "\n",
    "cols = df_test.columns\n",
    "cols.remove(\"INFANT_ALIVE_AT_REPORT\")\n",
    "\n",
    "df_test = VectorAssembler(inputCols = cols, outputCol = \"Feature\").transform(df_test)\n",
    "df_test = StandardScaler(inputCol = \"Feature\", outputCol = \"features\").fit(df_test).transform(df_test)\n",
    "                                                     "
   ]
  },
  {
   "cell_type": "code",
   "execution_count": 299,
   "metadata": {
    "scrolled": false
   },
   "outputs": [],
   "source": [
    "# Make Prediction\n",
    "from pyspark.ml.clustering import KMeans\n",
    "\n",
    "kmeans = KMeans().setK(2).setSeed(1)\n",
    "model = kmeans.fit(df_train)\n",
    "prediction = model.transform(df_test)\n",
    "\n",
    "from matplotlib import pyplot as plt \n",
    "prediction = prediction.toPandas()"
   ]
  },
  {
   "cell_type": "code",
   "execution_count": 305,
   "metadata": {},
   "outputs": [
    {
     "data": {
      "image/png": "[encoded data removed]",
      "text/plain": [
       "<Figure size 432x288 with 1 Axes>"
      ]
     },
     "metadata": {
      "needs_background": "light"
     },
     "output_type": "display_data"
    },
    {
     "name": "stdout",
     "output_type": "stream",
     "text": [
      "Black : Died\n",
      "Yellow : Alive\n"
     ]
    },
    {
     "data": {
      "image/png": "[encoded data removed]",
      "text/plain": [
       "<Figure size 432x288 with 1 Axes>"
      ]
     },
     "metadata": {},
     "output_type": "display_data"
    },
    {
     "data": {
      "image/png": "[encoded data removed]",
      "text/plain": [
       "<Figure size 432x288 with 1 Axes>"
      ]
     },
     "metadata": {
      "needs_background": "light"
     },
     "output_type": "display_data"
    }
   ],
   "source": [
    "# Prediction Vizualiation\n",
    "plt.scatter(prediction[\"MOTHER_DELIVERY_WEIGHT\"], prediction[\"MOTHER_BMI_RECODE\"], c = prediction[\"prediction\"])\n",
    "plt.xlabel(\"Mom Delivery Weight\")\n",
    "plt.ylabel(\"Mom BMI\")\n",
    "plt.title(\"Survive Rate\")\n",
    "\n",
    "\n",
    "plt.show()\n",
    "print(\"Black : Died\")\n",
    "print(\"Yellow : Alive\")\n",
    "\n",
    "steroid_death = 0\n",
    "steroid_alive = 0\n",
    "antibiotics_death = 0\n",
    "antibiotics_alive = 0\n",
    "\n",
    "survive = 0\n",
    "not_survive = 0\n",
    "\n",
    "for index, row in prediction.iterrows():\n",
    "    if row['prediction'] == 1:\n",
    "#         Survive\n",
    "        survive += 1\n",
    "        if row['ANTIBIOTICS'] == 1 :\n",
    "            antibiotics_alive += 1\n",
    "        if row['STEROIDS'] == 1:\n",
    "            steroid_alive += 1\n",
    "    else:\n",
    "#         Not Survive\n",
    "        not_survive += 1\n",
    "        if row['ANTIBIOTICS'] == 1 :\n",
    "            antibiotics_death += 1\n",
    "        if row['STEROIDS'] == 1:\n",
    "            steroid_death += 1\n",
    "            \n",
    "amount = [survive, not_survive]\n",
    "title = [\"Survive\", \"No Survive\"]\n",
    "plt.title(\"Survival Rates\")\n",
    "plt.pie(amount, labels=title, autopct = \"%.2f%%\")\n",
    "plt.show()\n",
    "\n",
    "amount = [steroid_death, steroid_alive, antibiotics_alive, antibiotics_death]\n",
    "title = [\"Steroid(D)\", \"Steroid(A)\", \"Antibiotics(A)\", \"Antibiotics(D)\"]\n",
    "plt.bar(title, amount)\n",
    "plt.title(\"Frequency\")\n",
    "plt.show()\n",
    "\n"
   ]
  },
  {
   "cell_type": "code",
   "execution_count": 297,
   "metadata": {},
   "outputs": [
    {
     "name": "stdout",
     "output_type": "stream",
     "text": [
      "Prediction Accuracy:  84.16209909969403\n"
     ]
    }
   ],
   "source": [
    "# Prediction Accuracy\n",
    "counter = 0\n",
    "for index, row in prediction.iterrows():\n",
    "    if row['INFANT_ALIVE_AT_REPORT'] == row['prediction']:\n",
    "        counter = counter +  1\n",
    "        \n",
    "prediction = counter / len(prediction) * 100\n",
    "print('Prediction Accuracy: ', prediction)"
   ]
  }
 ],
 "metadata": {
  "kernelspec": {
   "display_name": "Python 3",
   "language": "python",
   "name": "python3"
  },
  "language_info": {
   "codemirror_mode": {
    "name": "ipython",
    "version": 3
   },
   "file_extension": ".py",
   "mimetype": "text/x-python",
   "name": "python",
   "nbconvert_exporter": "python",
   "pygments_lexer": "ipython3",
   "version": "3.7.4"
  }
 },
 "nbformat": 4,
 "nbformat_minor": 2
}
